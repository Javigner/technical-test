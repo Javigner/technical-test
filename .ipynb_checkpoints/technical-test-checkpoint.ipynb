{
 "cells": [
  {
   "cell_type": "code",
   "execution_count": 7,
   "metadata": {
    "id": "z3D2sXBInRA2"
   },
   "outputs": [],
   "source": [
    "import pandas as pd\n",
    "import seaborn as sns\n",
    "import warnings\n",
    "warnings.filterwarnings(\"ignore\")\n",
    "import numpy as np\n",
    "import re, datetime"
   ]
  },
  {
   "cell_type": "code",
   "execution_count": 8,
   "metadata": {
    "id": "HWLRDNpYnxIw"
   },
   "outputs": [],
   "source": [
    "df = pd.read_csv('./study_centers_201909.csv')\n",
    "df['shopping_center_index'] = pd.factorize(df.shopping_center_id)[0]\n",
    "df = df.dropna()\n",
    "df[\"device_local_date\"] = pd.to_datetime(df[\"device_local_date\"])\n",
    "df['hours'] = df['device_local_date'].dt.time\n",
    "df['day'] = df['device_local_date'].dt.dayofweek"
   ]
  },
  {
   "cell_type": "code",
   "execution_count": 9,
   "metadata": {
    "colab": {
     "base_uri": "https://localhost:8080/"
    },
    "id": "XqCmS3Bqxqcf",
    "outputId": "7de28625-0858-4d5f-9f5f-1252bf75e839"
   },
   "outputs": [
    {
     "name": "stdout",
     "output_type": "stream",
     "text": [
      "   shopping_center_index                    shopping_center_id\n",
      "0                      0  b43e9e4f-acd1-4941-874d-e0c5650ab91e\n",
      "1                      1  599cb959-11ef-49aa-9eb3-e6c17b4ea6ba\n",
      "2                      2  0cd35523-1eca-4f09-ab0d-0b506ae9d986\n",
      "3                      3  cb2d5bb6-c372-4a51-8231-4ffa288a0c28\n"
     ]
    }
   ],
   "source": [
    "result = pd.DataFrame({'shopping_center_index': list(df['shopping_center_index'].unique()),\n",
    "                    'shopping_center_id': list(df['shopping_center_id'].unique())})\n",
    "print(result)"
   ]
  },
  {
   "cell_type": "code",
   "execution_count": 10,
   "metadata": {
    "id": "xPpNFMJqBrKt"
   },
   "outputs": [],
   "source": [
    "def round_nearest(x, a):\n",
    "    return round(x / a) * a"
   ]
  },
  {
   "cell_type": "code",
   "execution_count": 11,
   "metadata": {
    "colab": {
     "base_uri": "https://localhost:8080/"
    },
    "id": "YbaQmJIPAupU",
    "outputId": "7563a7eb-d190-41a6-ae81-4cfb1c2c5785"
   },
   "outputs": [
    {
     "name": "stdout",
     "output_type": "stream",
     "text": [
      "   shopping_center_index                    shopping_center_id  Monday_open  \\\n",
      "0                      0  b43e9e4f-acd1-4941-874d-e0c5650ab91e          7.6   \n",
      "1                      1  599cb959-11ef-49aa-9eb3-e6c17b4ea6ba          8.3   \n",
      "2                      2  0cd35523-1eca-4f09-ab0d-0b506ae9d986          9.1   \n",
      "3                      3  cb2d5bb6-c372-4a51-8231-4ffa288a0c28          8.3   \n",
      "\n",
      "   Monday_close  Tuesday_open  Tuesday_close  Wednesday_open  Wednesday_close  \\\n",
      "0         19.35          8.00          19.30            8.25            19.50   \n",
      "1         19.45          8.15          19.45            8.40            19.35   \n",
      "2         19.55          9.05          19.40            9.05            19.45   \n",
      "3         19.45          7.40          19.55            8.25            20.10   \n",
      "\n",
      "   Thursday_open  Thursday_close  Friday_open  Friday_close  Saturday_open  \\\n",
      "0           8.40           19.20         8.35         20.20           8.20   \n",
      "1           8.20           19.45         8.45         20.15           9.45   \n",
      "2           8.25           19.15         9.00         20.00           9.25   \n",
      "3           9.00           20.15         8.45         21.35           9.15   \n",
      "\n",
      "   Saturday_close  Sunday_open  Sunday_close  \n",
      "0           19.25         5.40         20.20  \n",
      "1           19.35         6.35         20.25  \n",
      "2           19.35         7.45         20.40  \n",
      "3           20.20         9.25         19.10  \n"
     ]
    }
   ],
   "source": [
    "weekDays = [\"Monday\",\"Tuesday\",\"Wednesday\",\"Thursday\",\"Friday\",\"Saturday\",\"Sunday\"]\n",
    "for i in range(7):\n",
    "  df_shop = df.loc[df['day'] == i]\n",
    "  open = []\n",
    "  close = []\n",
    "  for j in range(len(df_shop.shopping_center_index.unique())):\n",
    "    data = df_shop.loc[df_shop['shopping_center_index'] == j]\n",
    "    data['numeric'] = data['device_local_date'].dt.hour + data['device_local_date'].dt.minute/60.0\n",
    "    data = data.sort_values(by=['numeric'])\n",
    "    data = data.drop_duplicates(subset=['device_hash_id'])\n",
    "    tmp = round(float(data.numeric.quantile([0.05])), 2)\n",
    "    open.append(round_nearest(float('{0:02.0f}.{1:02.0f}'.format(*divmod(tmp * 60, 60))), 0.05))\n",
    "    tmp = round(float(data.numeric.quantile([0.95])), 2)\n",
    "    close.append(round_nearest(float('{0:02.0f}.{1:02.0f}'.format(*divmod(tmp * 60, 60))), 0.05))\n",
    "  result[weekDays[i] + '_open'] = open\n",
    "  result[weekDays[i] + '_close'] = close\n",
    "print(result)"
   ]
  },
  {
   "cell_type": "code",
   "execution_count": null,
   "metadata": {
    "id": "w7XeJPQbxnrY"
   },
   "outputs": [],
   "source": []
  },
  {
   "cell_type": "code",
   "execution_count": null,
   "metadata": {
    "colab": {
     "base_uri": "https://localhost:8080/",
     "height": 279
    },
    "id": "yiUAsA0aBYPi",
    "outputId": "00ea0a9c-c2af-495b-8db2-eaf76bae6a0c"
   },
   "outputs": [
    {
     "data": {
      "image/png": "[encoded data removed]",
      "text/plain": [
       "<Figure size 432x288 with 1 Axes>"
      ]
     },
     "metadata": {
      "needs_background": "light",
      "tags": []
     },
     "output_type": "display_data"
    }
   ],
   "source": [
    "ax = sns.boxplot(x=\"day\", y=\"numeric\", data=test[3])"
   ]
  }
 ],
 "metadata": {
  "colab": {
   "collapsed_sections": [],
   "name": "Untitled0.ipynb",
   "provenance": []
  },
  "kernelspec": {
   "display_name": "Python 3",
   "language": "python",
   "name": "python3"
  },
  "language_info": {
   "codemirror_mode": {
    "name": "ipython",
    "version": 3
   },
   "file_extension": ".py",
   "mimetype": "text/x-python",
   "name": "python",
   "nbconvert_exporter": "python",
   "pygments_lexer": "ipython3",
   "version": "3.8.5"
  }
 },
 "nbformat": 4,
 "nbformat_minor": 1
}
