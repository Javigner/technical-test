{
 "cells": [
  {
   "cell_type": "markdown",
   "metadata": {},
   "source": [
    "# Étude de cas - Data Science\n",
    "\n",
    "Vous avez à votre disposition un jeu de données qui contient des identifiants anonymisés de 4 centres commerciaux français ainsi que des identifiants de téléphones dont les propriétaires ont visité ces centres commerciaux avec la date et l'heure des différents pings observés au cours de la visite.\n",
    "\n",
    "L'objectif de l'étude est, à partir de ces données, de déterminer les horaires d'ouverture de chacun des centres pour chaque jour de la semaine.\n",
    "\n",
    "Idéalement vous proposerez un algorithme qui permettra de déterminer les horaires d'ouverture d'un centre ne faisant pas partie de ce dataset à partir de ses données de fréquentation.\n",
    "\n",
    "N'hésitez pas à proposer également toute piste d'amélioration sur la qualité des données source que vous jugerez pertinente.\n",
    "\n",
    "Vous présenterez vos résultats sous la forme d'un notebook avec vos calculs éventuellement accompagné d'un powerpoint pour présenter les différents résultats."
   ]
  },
  {
   "cell_type": "code",
   "execution_count": 133,
   "metadata": {
    "id": "z3D2sXBInRA2"
   },
   "outputs": [],
   "source": [
    "import pandas as pd\n",
    "import seaborn as sns\n",
    "import warnings\n",
    "warnings.filterwarnings(\"ignore\")\n",
    "import numpy as np\n",
    "import re, datetime\n",
    "import matplotlib.pyplot as plt"
   ]
  },
  {
   "cell_type": "markdown",
   "metadata": {},
   "source": [
    "Changer le path du csv ci-dessous pour déterminer les horaires d'ouverture d'un centre ne faisant pas partie de ce dataset"
   ]
  },
  {
   "cell_type": "code",
   "execution_count": 137,
   "metadata": {},
   "outputs": [
    {
     "data": {
      "text/html": [
       "<div>\n",
       "<style scoped>\n",
       "    .dataframe tbody tr th:only-of-type {\n",
       "        vertical-align: middle;\n",
       "    }\n",
       "\n",
       "    .dataframe tbody tr th {\n",
       "        vertical-align: top;\n",
       "    }\n",
       "\n",
       "    .dataframe thead th {\n",
       "        text-align: right;\n",
       "    }\n",
       "</style>\n",
       "<table border=\"1\" class=\"dataframe\">\n",
       "  <thead>\n",
       "    <tr style=\"text-align: right;\">\n",
       "      <th></th>\n",
       "      <th>shopping_center_id</th>\n",
       "      <th>device_local_date</th>\n",
       "      <th>device_hash_id</th>\n",
       "    </tr>\n",
       "  </thead>\n",
       "  <tbody>\n",
       "    <tr>\n",
       "      <th>0</th>\n",
       "      <td>b43e9e4f-acd1-4941-874d-e0c5650ab91e</td>\n",
       "      <td>2019-09-14 10:00:25.000</td>\n",
       "      <td>6fdffac307</td>\n",
       "    </tr>\n",
       "    <tr>\n",
       "      <th>1</th>\n",
       "      <td>b43e9e4f-acd1-4941-874d-e0c5650ab91e</td>\n",
       "      <td>2019-09-14 17:13:15.000</td>\n",
       "      <td>386141ebd8</td>\n",
       "    </tr>\n",
       "    <tr>\n",
       "      <th>2</th>\n",
       "      <td>b43e9e4f-acd1-4941-874d-e0c5650ab91e</td>\n",
       "      <td>2019-09-14 09:07:06.000</td>\n",
       "      <td>b06242b848</td>\n",
       "    </tr>\n",
       "    <tr>\n",
       "      <th>3</th>\n",
       "      <td>b43e9e4f-acd1-4941-874d-e0c5650ab91e</td>\n",
       "      <td>2019-09-14 17:14:49.000</td>\n",
       "      <td>c13cc52e82</td>\n",
       "    </tr>\n",
       "    <tr>\n",
       "      <th>4</th>\n",
       "      <td>599cb959-11ef-49aa-9eb3-e6c17b4ea6ba</td>\n",
       "      <td>2019-09-14 10:17:35.000</td>\n",
       "      <td>f339ddf999</td>\n",
       "    </tr>\n",
       "  </tbody>\n",
       "</table>\n",
       "</div>"
      ],
      "text/plain": [
       "                     shopping_center_id        device_local_date  \\\n",
       "0  b43e9e4f-acd1-4941-874d-e0c5650ab91e  2019-09-14 10:00:25.000   \n",
       "1  b43e9e4f-acd1-4941-874d-e0c5650ab91e  2019-09-14 17:13:15.000   \n",
       "2  b43e9e4f-acd1-4941-874d-e0c5650ab91e  2019-09-14 09:07:06.000   \n",
       "3  b43e9e4f-acd1-4941-874d-e0c5650ab91e  2019-09-14 17:14:49.000   \n",
       "4  599cb959-11ef-49aa-9eb3-e6c17b4ea6ba  2019-09-14 10:17:35.000   \n",
       "\n",
       "  device_hash_id  \n",
       "0     6fdffac307  \n",
       "1     386141ebd8  \n",
       "2     b06242b848  \n",
       "3     c13cc52e82  \n",
       "4     f339ddf999  "
      ]
     },
     "execution_count": 137,
     "metadata": {},
     "output_type": "execute_result"
    }
   ],
   "source": [
    "csv = './study_centers_201909.csv'\n",
    "df = pd.read_csv(csv)\n",
    "df.head()"
   ]
  },
  {
   "cell_type": "markdown",
   "metadata": {},
   "source": [
    "Ajout d'un index supplémentaire pour chaque shop.\n",
    "\n",
    "Suppression des échantillons présentant de la donnée manquante.\n",
    "\n",
    "Parser la date et l'heure."
   ]
  },
  {
   "cell_type": "code",
   "execution_count": 135,
   "metadata": {
    "id": "HWLRDNpYnxIw"
   },
   "outputs": [
    {
     "data": {
      "text/html": [
       "<div>\n",
       "<style scoped>\n",
       "    .dataframe tbody tr th:only-of-type {\n",
       "        vertical-align: middle;\n",
       "    }\n",
       "\n",
       "    .dataframe tbody tr th {\n",
       "        vertical-align: top;\n",
       "    }\n",
       "\n",
       "    .dataframe thead th {\n",
       "        text-align: right;\n",
       "    }\n",
       "</style>\n",
       "<table border=\"1\" class=\"dataframe\">\n",
       "  <thead>\n",
       "    <tr style=\"text-align: right;\">\n",
       "      <th></th>\n",
       "      <th>shopping_center_id</th>\n",
       "      <th>device_local_date</th>\n",
       "      <th>device_hash_id</th>\n",
       "      <th>shopping_center_index</th>\n",
       "      <th>hours</th>\n",
       "      <th>day</th>\n",
       "    </tr>\n",
       "  </thead>\n",
       "  <tbody>\n",
       "    <tr>\n",
       "      <th>0</th>\n",
       "      <td>b43e9e4f-acd1-4941-874d-e0c5650ab91e</td>\n",
       "      <td>2019-09-14 10:00:25</td>\n",
       "      <td>6fdffac307</td>\n",
       "      <td>0</td>\n",
       "      <td>10:00:25</td>\n",
       "      <td>5</td>\n",
       "    </tr>\n",
       "    <tr>\n",
       "      <th>1</th>\n",
       "      <td>b43e9e4f-acd1-4941-874d-e0c5650ab91e</td>\n",
       "      <td>2019-09-14 17:13:15</td>\n",
       "      <td>386141ebd8</td>\n",
       "      <td>0</td>\n",
       "      <td>17:13:15</td>\n",
       "      <td>5</td>\n",
       "    </tr>\n",
       "    <tr>\n",
       "      <th>2</th>\n",
       "      <td>b43e9e4f-acd1-4941-874d-e0c5650ab91e</td>\n",
       "      <td>2019-09-14 09:07:06</td>\n",
       "      <td>b06242b848</td>\n",
       "      <td>0</td>\n",
       "      <td>09:07:06</td>\n",
       "      <td>5</td>\n",
       "    </tr>\n",
       "    <tr>\n",
       "      <th>3</th>\n",
       "      <td>b43e9e4f-acd1-4941-874d-e0c5650ab91e</td>\n",
       "      <td>2019-09-14 17:14:49</td>\n",
       "      <td>c13cc52e82</td>\n",
       "      <td>0</td>\n",
       "      <td>17:14:49</td>\n",
       "      <td>5</td>\n",
       "    </tr>\n",
       "    <tr>\n",
       "      <th>4</th>\n",
       "      <td>599cb959-11ef-49aa-9eb3-e6c17b4ea6ba</td>\n",
       "      <td>2019-09-14 10:17:35</td>\n",
       "      <td>f339ddf999</td>\n",
       "      <td>1</td>\n",
       "      <td>10:17:35</td>\n",
       "      <td>5</td>\n",
       "    </tr>\n",
       "  </tbody>\n",
       "</table>\n",
       "</div>"
      ],
      "text/plain": [
       "                     shopping_center_id   device_local_date device_hash_id  \\\n",
       "0  b43e9e4f-acd1-4941-874d-e0c5650ab91e 2019-09-14 10:00:25     6fdffac307   \n",
       "1  b43e9e4f-acd1-4941-874d-e0c5650ab91e 2019-09-14 17:13:15     386141ebd8   \n",
       "2  b43e9e4f-acd1-4941-874d-e0c5650ab91e 2019-09-14 09:07:06     b06242b848   \n",
       "3  b43e9e4f-acd1-4941-874d-e0c5650ab91e 2019-09-14 17:14:49     c13cc52e82   \n",
       "4  599cb959-11ef-49aa-9eb3-e6c17b4ea6ba 2019-09-14 10:17:35     f339ddf999   \n",
       "\n",
       "   shopping_center_index     hours  day  \n",
       "0                      0  10:00:25    5  \n",
       "1                      0  17:13:15    5  \n",
       "2                      0  09:07:06    5  \n",
       "3                      0  17:14:49    5  \n",
       "4                      1  10:17:35    5  "
      ]
     },
     "execution_count": 135,
     "metadata": {},
     "output_type": "execute_result"
    }
   ],
   "source": [
    "df['shopping_center_index'] = pd.factorize(df.shopping_center_id)[0]\n",
    "df = df.dropna()\n",
    "df[\"device_local_date\"] = pd.to_datetime(df[\"device_local_date\"])\n",
    "df['hours'] = df['device_local_date'].dt.time\n",
    "df['day'] = df['device_local_date'].dt.dayofweek\n",
    "df.head()"
   ]
  },
  {
   "cell_type": "markdown",
   "metadata": {},
   "source": [
    "Initialisation du resultat final."
   ]
  },
  {
   "cell_type": "code",
   "execution_count": 132,
   "metadata": {
    "colab": {
     "base_uri": "https://localhost:8080/"
    },
    "id": "XqCmS3Bqxqcf",
    "outputId": "7de28625-0858-4d5f-9f5f-1252bf75e839"
   },
   "outputs": [
    {
     "data": {
      "text/html": [
       "<div>\n",
       "<style scoped>\n",
       "    .dataframe tbody tr th:only-of-type {\n",
       "        vertical-align: middle;\n",
       "    }\n",
       "\n",
       "    .dataframe tbody tr th {\n",
       "        vertical-align: top;\n",
       "    }\n",
       "\n",
       "    .dataframe thead th {\n",
       "        text-align: right;\n",
       "    }\n",
       "</style>\n",
       "<table border=\"1\" class=\"dataframe\">\n",
       "  <thead>\n",
       "    <tr style=\"text-align: right;\">\n",
       "      <th></th>\n",
       "      <th>shopping_center_index</th>\n",
       "      <th>shopping_center_id</th>\n",
       "    </tr>\n",
       "  </thead>\n",
       "  <tbody>\n",
       "    <tr>\n",
       "      <th>0</th>\n",
       "      <td>0</td>\n",
       "      <td>b43e9e4f-acd1-4941-874d-e0c5650ab91e</td>\n",
       "    </tr>\n",
       "    <tr>\n",
       "      <th>1</th>\n",
       "      <td>1</td>\n",
       "      <td>599cb959-11ef-49aa-9eb3-e6c17b4ea6ba</td>\n",
       "    </tr>\n",
       "    <tr>\n",
       "      <th>2</th>\n",
       "      <td>2</td>\n",
       "      <td>0cd35523-1eca-4f09-ab0d-0b506ae9d986</td>\n",
       "    </tr>\n",
       "    <tr>\n",
       "      <th>3</th>\n",
       "      <td>3</td>\n",
       "      <td>cb2d5bb6-c372-4a51-8231-4ffa288a0c28</td>\n",
       "    </tr>\n",
       "  </tbody>\n",
       "</table>\n",
       "</div>"
      ],
      "text/plain": [
       "   shopping_center_index                    shopping_center_id\n",
       "0                      0  b43e9e4f-acd1-4941-874d-e0c5650ab91e\n",
       "1                      1  599cb959-11ef-49aa-9eb3-e6c17b4ea6ba\n",
       "2                      2  0cd35523-1eca-4f09-ab0d-0b506ae9d986\n",
       "3                      3  cb2d5bb6-c372-4a51-8231-4ffa288a0c28"
      ]
     },
     "execution_count": 132,
     "metadata": {},
     "output_type": "execute_result"
    }
   ],
   "source": [
    "result = pd.DataFrame({'shopping_center_index': list(df['shopping_center_index'].unique()),\n",
    "                    'shopping_center_id': list(df['shopping_center_id'].unique())})\n",
    "result.head()"
   ]
  },
  {
   "cell_type": "markdown",
   "metadata": {},
   "source": [
    "Fonction qui permet d'arrondir l'heure aux 5 minutes les plus proches."
   ]
  },
  {
   "cell_type": "code",
   "execution_count": 127,
   "metadata": {
    "id": "xPpNFMJqBrKt"
   },
   "outputs": [],
   "source": [
    "def round_nearest(x, a):\n",
    "    result =  round(x / a) * a\n",
    "    if str(result).find('.6') == 1:\n",
    "        result += 0.4\n",
    "    return result"
   ]
  },
  {
   "cell_type": "markdown",
   "metadata": {},
   "source": [
    "Ma solution est de determiner les horaires d'ouvertures et de fermetures en gardant uniquement les horaires qui representent 90% de l'affluences. J'ai donc exclut les 5 premiers et les 5 derniers percentiles. \n",
    "\n",
    "Pendant le calcul de mon resultat, j'exclut egalement les multiples pings d'une meme personne pendant la meme heure afin de ne pas biaiser les resultats.\n",
    "\n",
    "## Le tableau ci dessous presente les resultats de l'algorithme."
   ]
  },
  {
   "cell_type": "code",
   "execution_count": 128,
   "metadata": {
    "colab": {
     "base_uri": "https://localhost:8080/"
    },
    "id": "YbaQmJIPAupU",
    "outputId": "7563a7eb-d190-41a6-ae81-4cfb1c2c5785"
   },
   "outputs": [
    {
     "data": {
      "text/html": [
       "<div>\n",
       "<style scoped>\n",
       "    .dataframe tbody tr th:only-of-type {\n",
       "        vertical-align: middle;\n",
       "    }\n",
       "\n",
       "    .dataframe tbody tr th {\n",
       "        vertical-align: top;\n",
       "    }\n",
       "\n",
       "    .dataframe thead th {\n",
       "        text-align: right;\n",
       "    }\n",
       "</style>\n",
       "<table border=\"1\" class=\"dataframe\">\n",
       "  <thead>\n",
       "    <tr style=\"text-align: right;\">\n",
       "      <th></th>\n",
       "      <th>shopping_center_id</th>\n",
       "      <th>Monday_open</th>\n",
       "      <th>Monday_close</th>\n",
       "      <th>Tuesday_open</th>\n",
       "      <th>Tuesday_close</th>\n",
       "      <th>Wednesday_open</th>\n",
       "      <th>Wednesday_close</th>\n",
       "      <th>Thursday_open</th>\n",
       "      <th>Thursday_close</th>\n",
       "      <th>Friday_open</th>\n",
       "      <th>Friday_close</th>\n",
       "      <th>Saturday_open</th>\n",
       "      <th>Saturday_close</th>\n",
       "      <th>Sunday_open</th>\n",
       "      <th>Sunday_close</th>\n",
       "    </tr>\n",
       "  </thead>\n",
       "  <tbody>\n",
       "    <tr>\n",
       "      <th>0</th>\n",
       "      <td>b43e9e4f-acd1-4941-874d-e0c5650ab91e</td>\n",
       "      <td>8.0</td>\n",
       "      <td>19.35</td>\n",
       "      <td>8.00</td>\n",
       "      <td>19.30</td>\n",
       "      <td>8.25</td>\n",
       "      <td>19.50</td>\n",
       "      <td>8.40</td>\n",
       "      <td>19.20</td>\n",
       "      <td>8.35</td>\n",
       "      <td>20.20</td>\n",
       "      <td>8.20</td>\n",
       "      <td>19.25</td>\n",
       "      <td>5.40</td>\n",
       "      <td>20.20</td>\n",
       "    </tr>\n",
       "    <tr>\n",
       "      <th>1</th>\n",
       "      <td>599cb959-11ef-49aa-9eb3-e6c17b4ea6ba</td>\n",
       "      <td>8.3</td>\n",
       "      <td>19.45</td>\n",
       "      <td>8.15</td>\n",
       "      <td>19.45</td>\n",
       "      <td>8.40</td>\n",
       "      <td>19.35</td>\n",
       "      <td>8.20</td>\n",
       "      <td>19.45</td>\n",
       "      <td>8.45</td>\n",
       "      <td>20.15</td>\n",
       "      <td>9.45</td>\n",
       "      <td>19.35</td>\n",
       "      <td>6.35</td>\n",
       "      <td>20.25</td>\n",
       "    </tr>\n",
       "    <tr>\n",
       "      <th>2</th>\n",
       "      <td>0cd35523-1eca-4f09-ab0d-0b506ae9d986</td>\n",
       "      <td>9.1</td>\n",
       "      <td>19.55</td>\n",
       "      <td>9.05</td>\n",
       "      <td>19.40</td>\n",
       "      <td>9.05</td>\n",
       "      <td>19.45</td>\n",
       "      <td>8.25</td>\n",
       "      <td>19.15</td>\n",
       "      <td>9.00</td>\n",
       "      <td>20.00</td>\n",
       "      <td>9.25</td>\n",
       "      <td>19.35</td>\n",
       "      <td>7.45</td>\n",
       "      <td>20.40</td>\n",
       "    </tr>\n",
       "    <tr>\n",
       "      <th>3</th>\n",
       "      <td>cb2d5bb6-c372-4a51-8231-4ffa288a0c28</td>\n",
       "      <td>8.3</td>\n",
       "      <td>19.45</td>\n",
       "      <td>7.40</td>\n",
       "      <td>19.55</td>\n",
       "      <td>8.25</td>\n",
       "      <td>20.10</td>\n",
       "      <td>9.00</td>\n",
       "      <td>20.15</td>\n",
       "      <td>8.45</td>\n",
       "      <td>21.35</td>\n",
       "      <td>9.15</td>\n",
       "      <td>20.20</td>\n",
       "      <td>9.25</td>\n",
       "      <td>19.10</td>\n",
       "    </tr>\n",
       "  </tbody>\n",
       "</table>\n",
       "</div>"
      ],
      "text/plain": [
       "                     shopping_center_id  Monday_open  Monday_close  \\\n",
       "0  b43e9e4f-acd1-4941-874d-e0c5650ab91e          8.0         19.35   \n",
       "1  599cb959-11ef-49aa-9eb3-e6c17b4ea6ba          8.3         19.45   \n",
       "2  0cd35523-1eca-4f09-ab0d-0b506ae9d986          9.1         19.55   \n",
       "3  cb2d5bb6-c372-4a51-8231-4ffa288a0c28          8.3         19.45   \n",
       "\n",
       "   Tuesday_open  Tuesday_close  Wednesday_open  Wednesday_close  \\\n",
       "0          8.00          19.30            8.25            19.50   \n",
       "1          8.15          19.45            8.40            19.35   \n",
       "2          9.05          19.40            9.05            19.45   \n",
       "3          7.40          19.55            8.25            20.10   \n",
       "\n",
       "   Thursday_open  Thursday_close  Friday_open  Friday_close  Saturday_open  \\\n",
       "0           8.40           19.20         8.35         20.20           8.20   \n",
       "1           8.20           19.45         8.45         20.15           9.45   \n",
       "2           8.25           19.15         9.00         20.00           9.25   \n",
       "3           9.00           20.15         8.45         21.35           9.15   \n",
       "\n",
       "   Saturday_close  Sunday_open  Sunday_close  \n",
       "0           19.25         5.40         20.20  \n",
       "1           19.35         6.35         20.25  \n",
       "2           19.35         7.45         20.40  \n",
       "3           20.20         9.25         19.10  "
      ]
     },
     "execution_count": 128,
     "metadata": {},
     "output_type": "execute_result"
    }
   ],
   "source": [
    "weekDays = [\"Monday\",\"Tuesday\",\"Wednesday\",\"Thursday\",\"Friday\",\"Saturday\",\"Sunday\"]\n",
    "for i in range(7):\n",
    "  df_shop = df.loc[df['day'] == i]\n",
    "  openhours = []\n",
    "  closehours = []\n",
    "  for j in range(len(df_shop.shopping_center_index.unique())):\n",
    "    data = df_shop.loc[df_shop['shopping_center_index'] == j]\n",
    "    data['numeric'] = data['device_local_date'].dt.hour + data['device_local_date'].dt.minute/60.0\n",
    "    data = data.sort_values(by=['numeric'])\n",
    "    data = data.drop_duplicates(subset=['device_hash_id'])\n",
    "    tmp = round(float(data.numeric.quantile([0.05])), 2)\n",
    "    openhours.append(round_nearest(float('{0:02.0f}.{1:02.0f}'.format(*divmod(tmp * 60, 60))), 0.05))\n",
    "    tmp = round(float(data.numeric.quantile([0.95])), 2)\n",
    "    closehours.append(round_nearest(float('{0:02.0f}.{1:02.0f}'.format(*divmod(tmp * 60, 60))), 0.05))\n",
    "  result[weekDays[i] + '_open'] = openhours\n",
    "  result[weekDays[i] + '_close'] = closehours\n",
    "result.loc[result['shopping_center_index'] == 0]\n",
    "result = result.drop(columns='shopping_center_index')\n",
    "result.head(len(df_shop.shopping_center_index.unique()))"
   ]
  },
  {
   "cell_type": "markdown",
   "metadata": {},
   "source": [
    "# Pour aller plus loin\n",
    "\n",
    "Je pense qu'il serait intéressant d'avoir le cout d'opération. En effet toutes les dépenses sont impactées lorsque le magasin est ouvert plus longtemps. Il serait également pertinent d'obtenir le ticket moyen d'un client. C'est 2 données supplémentaires associées à la frequentation des clients permettraient de calculer un seuil de rentabilité qui nous permettrait de choisir avec d'avantages de pertinences les horaires d'ouvertures et de fermetures d'un magasin."
   ]
  },
  {
   "cell_type": "code",
   "execution_count": null,
   "metadata": {},
   "outputs": [],
   "source": []
  }
 ],
 "metadata": {
  "celltoolbar": "Format de la Cellule Texte Brut",
  "colab": {
   "collapsed_sections": [],
   "name": "Untitled0.ipynb",
   "provenance": []
  },
  "kernelspec": {
   "display_name": "Python 3",
   "language": "python",
   "name": "python3"
  },
  "language_info": {
   "codemirror_mode": {
    "name": "ipython",
    "version": 3
   },
   "file_extension": ".py",
   "mimetype": "text/x-python",
   "name": "python",
   "nbconvert_exporter": "python",
   "pygments_lexer": "ipython3",
   "version": "3.8.5"
  }
 },
 "nbformat": 4,
 "nbformat_minor": 1
}
